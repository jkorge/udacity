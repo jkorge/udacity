{
 "cells": [
  {
   "cell_type": "code",
   "execution_count": 1,
   "metadata": {},
   "outputs": [
    {
     "name": "stderr",
     "output_type": "stream",
     "text": [
      "WARNING:tf_encrypted:Falling back to insecure randomness since the required custom op could not be found for the installed version of TensorFlow (1.13.1). Fix this by compiling custom ops.\n"
     ]
    }
   ],
   "source": [
    "import torch\n",
    "from torch import nn, optim\n",
    "from torchvision import models\n",
    "import syft\n",
    "import numpy as np\n",
    "from matplotlib import pyplot as plt"
   ]
  },
  {
   "cell_type": "markdown",
   "metadata": {},
   "source": [
    "## Toy Data"
   ]
  },
  {
   "cell_type": "code",
   "execution_count": 2,
   "metadata": {},
   "outputs": [],
   "source": [
    "hook = syft.TorchHook(torch)"
   ]
  },
  {
   "cell_type": "code",
   "execution_count": 3,
   "metadata": {},
   "outputs": [],
   "source": [
    "# Remote workers which train the model\n",
    "trainer1 = syft.VirtualWorker(hook, id='t1')\n",
    "trainer2 = syft.VirtualWorker(hook, id='t2')\n",
    "aggregator = syft.VirtualWorker(hook, id='agg')"
   ]
  },
  {
   "cell_type": "code",
   "execution_count": 44,
   "metadata": {},
   "outputs": [
    {
     "data": {
      "text/plain": [
       "(<VirtualWorker id:t1 #tensors:0>,\n",
       " <VirtualWorker id:t2 #tensors:0>,\n",
       " <VirtualWorker id:agg #tensors:0>)"
      ]
     },
     "execution_count": 44,
     "metadata": {},
     "output_type": "execute_result"
    }
   ],
   "source": [
    "trainer1 = trainer1.clear_objects()\n",
    "trainer2 = trainer2.clear_objects()\n",
    "aggregator = aggregator.clear_objects()\n",
    "\n",
    "trainer1, trainer2, aggregator"
   ]
  },
  {
   "cell_type": "code",
   "execution_count": 45,
   "metadata": {},
   "outputs": [
    {
     "data": {
      "text/plain": [
       "[tensor([[ 0.1713, -0.2617]]), tensor([-0.6135])]"
      ]
     },
     "execution_count": 45,
     "metadata": {},
     "output_type": "execute_result"
    }
   ],
   "source": [
    "# OR Gate\n",
    "data = torch.tensor([[1.,1],\n",
    "                     [1,0],\n",
    "                     [0,1],\n",
    "                     [0,0]], requires_grad=True)\n",
    "targets = torch.tensor([[1.],\n",
    "                       [1],\n",
    "                       [1],\n",
    "                       [0]], requires_grad=True)\n",
    "# Linear model\n",
    "model = nn.Linear(2,1)"
   ]
  },
  {
   "cell_type": "code",
   "execution_count": 46,
   "metadata": {},
   "outputs": [],
   "source": [
    "# Send data to trainers\n",
    "data1 = data[0:2].send(trainer1)\n",
    "data2 = data[2:4].send(trainer2)\n",
    "\n",
    "# Send targets to trainers\n",
    "targets1 = targets[0:2].send(trainer1)\n",
    "targets2 = targets[2:4].send(trainer2)"
   ]
  },
  {
   "cell_type": "code",
   "execution_count": 47,
   "metadata": {},
   "outputs": [],
   "source": [
    "def train(model, dataloader, rounds=10, epochs=20):\n",
    "\n",
    "    for round_iter in range(rounds):\n",
    "        \n",
    "        _models = []\n",
    "        _opts = []\n",
    "        \n",
    "        # Send model to workers\n",
    "        for remote_data in dataloader:\n",
    "            _models.append(model.copy().send(remote_data[0].location))\n",
    "            # SGD optimizer\n",
    "            _opts.append(optim.SGD(params=_models[-1].parameters(), lr=0.1))\n",
    "\n",
    "        # Training loop\n",
    "        for epoch in range(epochs):\n",
    "            for i in range(len(_models)):\n",
    "                _opts[i].zero_grad()\n",
    "                pred = _models[i](dataloader[i][0])\n",
    "                loss = ((pred - dataloader[i][1])**2).sum()\n",
    "                loss.backward()\n",
    "                _opts[i].step()\n",
    "        for _model in _models:\n",
    "            _model.move(aggregator)\n",
    "        \n",
    "        model.weight.data.set_((sum([_model.weight.data for _model in _models]) / 2).get())\n",
    "        model.bias.data.set_((sum([_model.bias.data for _model in _models]) / 2).get())\n",
    "            \n",
    "    return model"
   ]
  },
  {
   "cell_type": "code",
   "execution_count": 48,
   "metadata": {},
   "outputs": [
    {
     "data": {
      "text/plain": [
       "Linear(in_features=2, out_features=1, bias=True)"
      ]
     },
     "execution_count": 48,
     "metadata": {},
     "output_type": "execute_result"
    }
   ],
   "source": [
    "dataloader = [(data1, targets1), (data2, targets2)]\n",
    "model = train(model, dataloader)\n",
    "model"
   ]
  }
 ],
 "metadata": {
  "kernelspec": {
   "display_name": "Python 3",
   "language": "python",
   "name": "python3"
  },
  "language_info": {
   "codemirror_mode": {
    "name": "ipython",
    "version": 3
   },
   "file_extension": ".py",
   "mimetype": "text/x-python",
   "name": "python",
   "nbconvert_exporter": "python",
   "pygments_lexer": "ipython3",
   "version": "3.6.8"
  }
 },
 "nbformat": 4,
 "nbformat_minor": 2
}
